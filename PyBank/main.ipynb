{
 "cells": [
  {
   "cell_type": "code",
   "execution_count": null,
   "metadata": {},
   "outputs": [],
   "source": [
    "from pathlib import Path\n",
    "import csv\n",
    "import os"
   ]
  },
  {
   "cell_type": "code",
   "execution_count": 1,
   "metadata": {},
   "outputs": [
    {
     "ename": "NameError",
     "evalue": "name 'Path' is not defined",
     "output_type": "error",
     "traceback": [
      "\u001b[1;31m---------------------------------------------------------------------------\u001b[0m",
      "\u001b[1;31mNameError\u001b[0m                                 Traceback (most recent call last)",
      "\u001b[1;32mc:\\Users\\JamesDavidson\\Desktop\\Challenge_Homeworks\\Challenge2\\python-homework\\PyBank\\python-homework\\PyBank\\main.ipynb Cell 2\u001b[0m line \u001b[0;36m2\n\u001b[0;32m      <a href='vscode-notebook-cell:/c%3A/Users/JamesDavidson/Desktop/Challenge_Homeworks/Challenge2/python-homework/PyBank/python-homework/PyBank/main.ipynb#W1sZmlsZQ%3D%3D?line=0'>1</a>\u001b[0m \u001b[39m# Define the path to the CSV file\u001b[39;00m\n\u001b[1;32m----> <a href='vscode-notebook-cell:/c%3A/Users/JamesDavidson/Desktop/Challenge_Homeworks/Challenge2/python-homework/PyBank/python-homework/PyBank/main.ipynb#W1sZmlsZQ%3D%3D?line=1'>2</a>\u001b[0m csvpath \u001b[39m=\u001b[39m Path(\u001b[39mr\u001b[39m\u001b[39m\"\u001b[39m\u001b[39mC:\u001b[39m\u001b[39m\\\u001b[39m\u001b[39mUsers\u001b[39m\u001b[39m\\\u001b[39m\u001b[39mJamesDavidson\u001b[39m\u001b[39m\\\u001b[39m\u001b[39mDesktop\u001b[39m\u001b[39m\\\u001b[39m\u001b[39mChallenge_Homeworks\u001b[39m\u001b[39m\\\u001b[39m\u001b[39mChallenge2\u001b[39m\u001b[39m\\\u001b[39m\u001b[39mpython-homework\u001b[39m\u001b[39m\\\u001b[39m\u001b[39mPyBank\u001b[39m\u001b[39m\\\u001b[39m\u001b[39mResources\u001b[39m\u001b[39m\\\u001b[39m\u001b[39mbudget_data.csv\u001b[39m\u001b[39m\"\u001b[39m)\n",
      "\u001b[1;31mNameError\u001b[0m: name 'Path' is not defined"
     ]
    }
   ],
   "source": [
    "# Define the path to the CSV file\n",
    "csvpath = Path(r\"C:\\Users\\JamesDavidson\\Desktop\\Challenge_Homeworks\\Challenge2\\python-homework\\PyBank\\Resources\\budget_data.csv\")"
   ]
  },
  {
   "cell_type": "code",
   "execution_count": null,
   "metadata": {},
   "outputs": [],
   "source": []
  }
 ],
 "metadata": {
  "kernelspec": {
   "display_name": "dev",
   "language": "python",
   "name": "python3"
  },
  "language_info": {
   "codemirror_mode": {
    "name": "ipython",
    "version": 3
   },
   "file_extension": ".py",
   "mimetype": "text/x-python",
   "name": "python",
   "nbconvert_exporter": "python",
   "pygments_lexer": "ipython3",
   "version": "3.10.12"
  },
  "orig_nbformat": 4
 },
 "nbformat": 4,
 "nbformat_minor": 2
}
